{
 "cells": [
  {
   "cell_type": "code",
   "execution_count": null,
   "id": "e3ac5202",
   "metadata": {},
   "outputs": [],
   "source": [
    "#Importing the Libraries\n",
    "import tensorflow as tf\n",
    "from tensorflow.keras.preprocessing.image import ImageDataGenerator\n",
    "from tensorflow.keras.preprocessing import image\n",
    "from tensorflow.keras.optimizers import RMSprop\n",
    "import matplotlib.pyplot as plt\n",
    "import cv2\n",
    "import os\n",
    "import numpy as np\n",
    "\n",
    "import warnings\n",
    "warnings.filterwarnings('ignore')\n",
    "\n",
    "#Rescaling the Images for Training using Image Data Generator\n",
    "train = ImageDataGenerator(rescale = 1/255)\n",
    "\n",
    "#Rescaling the Images for Validation using Image Data Generator\n",
    "validation = ImageDataGenerator(rescale = 1/255)\n",
    "\n",
    "#Traing Dataset Path, Size, Class mode\n",
    "train_dataset = train.flow_from_directory(\" -- Input Path to Train /train/  -- \",\n",
    "                                         target_size = (200, 200),\n",
    "                                         batch_size = 3,\n",
    "                                         class_mode = 'binary')\n",
    "#Validation Dataset Path, Size, Class mode\n",
    "validation_dataset = train.flow_from_directory(\" -- Input Path to Validation /validation/  -- \",\n",
    "                                         target_size = (200, 200),\n",
    "                                         batch_size = 3,\n",
    "                                         class_mode = 'binary')\n",
    "\n",
    "train_dataset.class_indices"
   ]
  },
  {
   "cell_type": "code",
   "execution_count": null,
   "id": "2faccb71",
   "metadata": {},
   "outputs": [],
   "source": [
    "#Layers, Activation Functions\n",
    "model = tf.keras.models.Sequential([tf.keras.layers.Conv2D(16,(3,3), activation = 'relu', input_shape = (200, 200, 3)),\n",
    "                                   tf.keras.layers.MaxPool2D(2,2),\n",
    "                                   \n",
    "                                   tf.keras.layers.Conv2D(32,(3,3), activation = 'relu'),\n",
    "                                   tf.keras.layers.MaxPool2D(2,2),\n",
    "                                   \n",
    "                                   tf.keras.layers.Conv2D(64, (3,3), activation = 'relu'),\n",
    "                                   tf.keras.layers.MaxPool2D(2,2),\n",
    "                                   \n",
    "                                   tf.keras.layers.Flatten(),\n",
    "                                   \n",
    "                                   tf.keras.layers.Dense(512, activation = 'relu'),\n",
    "                                   \n",
    "                                   tf.keras.layers.Dense(1, activation = 'sigmoid')\n",
    "                                   ])\n",
    "\n",
    "#Model Compilation\n",
    "model.compile(loss = 'binary_crossentropy',\n",
    "             optimizer = RMSprop(lr=0.001),\n",
    "             metrics = ['accuracy'])"
   ]
  },
  {
   "cell_type": "code",
   "execution_count": null,
   "id": "2c97f18f",
   "metadata": {},
   "outputs": [],
   "source": [
    "#Fitting the Model on Training Data & Epochs\n",
    "model_fit = model.fit(train_dataset,\n",
    "                     steps_per_epoch = 3,\n",
    "                     epochs = 30,\n",
    "                     validation_data = validation_dataset)"
   ]
  }
 ],
 "metadata": {
  "kernelspec": {
   "display_name": "Python 3 (ipykernel)",
   "language": "python",
   "name": "python3"
  },
  "language_info": {
   "codemirror_mode": {
    "name": "ipython",
    "version": 3
   },
   "file_extension": ".py",
   "mimetype": "text/x-python",
   "name": "python",
   "nbconvert_exporter": "python",
   "pygments_lexer": "ipython3",
   "version": "3.9.13"
  }
 },
 "nbformat": 4,
 "nbformat_minor": 5
}
